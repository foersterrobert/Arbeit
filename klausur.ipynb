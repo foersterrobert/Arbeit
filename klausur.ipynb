{
 "cells": [
  {
   "cell_type": "code",
   "execution_count": 1,
   "metadata": {},
   "outputs": [
    {
     "name": "stdout",
     "output_type": "stream",
     "text": [
      "Zahlen von klein nach groß: 1.0 2.0\n"
     ]
    }
   ],
   "source": [
    "# Aufgabe 1\n",
    "\n",
    "\n",
    "# Nehme zwei Werte als Input, die zu einem float gecasted werden.\n",
    "zahl1 = float(input(\"Geben Sie eine Zahl ein: \"))\n",
    "zahl2 = float(input(\"Geben Sie eine zweite Zahl ein: \"))\n",
    "\n",
    "# Mache eine Liste aus den Werte, die sortiert wieder ausgegeben wird.\n",
    "print(\n",
    "    \"Zahlen von klein nach groß:\",\n",
    "    *sorted([zahl1, zahl2])\n",
    ")"
   ]
  },
  {
   "cell_type": "code",
   "execution_count": null,
   "metadata": {},
   "outputs": [],
   "source": [
    "# Aufgabe 2\n",
    "\n",
    "kreditSumme = float(input(\"Geben sie eine Kreditsumme ein: \"))\n",
    "print(\n",
    "    f\"Kreditsumme nach einem Jahr: {kreditSumme * 1.03}€\"\n",
    ")\n",
    "\n",
    "# Siehe Webseite für individuelle Optionen."
   ]
  },
  {
   "cell_type": "code",
   "execution_count": 3,
   "metadata": {},
   "outputs": [
    {
     "name": "stdout",
     "output_type": "stream",
     "text": [
      "\n",
      "Basis: 3\n",
      "Exponent: 9\n",
      "Ergebnis for-Schleife: 19683\n",
      "Ergebnis while-Schleife: 19683\n",
      "Kontrolle: 19683\n",
      "    \n"
     ]
    }
   ],
   "source": [
    "# Aufgabe 3\n",
    "\n",
    "# Nehme zwei Werte, die jeweils zu ints gecasted werden.\n",
    "basis = int(input(\"Basis: \"))\n",
    "exponent = int(input(\"Exponent: \"))\n",
    "\n",
    "# option a) for-Schleife\n",
    "# Multipliziere die Basis exponent-mal mit sich selbst. \n",
    "myBasisForLoop = 1\n",
    "for i in range(exponent):\n",
    "    myBasisForLoop = myBasisForLoop * basis\n",
    "\n",
    "# option b) while-Schleife\n",
    "# Hier wird zusätzlich ein counter verwendet, um die Anzahl der Multiplikationen zu ermitteln.\n",
    "myBasisWhileLoop = 1\n",
    "counter = exponent\n",
    "while counter:\n",
    "    myBasisWhileLoop = myBasisWhileLoop * basis\n",
    "    counter -= 1\n",
    "\n",
    "print(f\"\"\"\n",
    "Basis: {basis}\n",
    "Exponent: {exponent}\n",
    "Ergebnis for-Schleife: {myBasisForLoop}\n",
    "Ergebnis while-Schleife: {myBasisWhileLoop}\n",
    "Kontrolle: {basis ** exponent}\n",
    "    \"\"\") "
   ]
  },
  {
   "cell_type": "code",
   "execution_count": 27,
   "metadata": {},
   "outputs": [
    {
     "name": "stdout",
     "output_type": "stream",
     "text": [
      "0\n",
      "1\n",
      "1\n",
      "2\n",
      "3\n",
      "5\n",
      "8\n",
      "13\n",
      "21\n",
      "34\n",
      "55\n",
      "89\n",
      "144\n"
     ]
    }
   ],
   "source": [
    "# Aufgabe 4\n",
    "\n",
    "def fibonacci(l):\n",
    "    k, j = 0, 1 # Definiere die Startwerte k & j\n",
    "\n",
    "    # Gebe die Startwerte aus\n",
    "    print(k)\n",
    "    print(j)\n",
    "\n",
    "    for i in range(l):\n",
    "        # Gebe die Summe der Beiden vergangen zahlen aus.\n",
    "        n = k+j\n",
    "        print(n)\n",
    "        # Gleiche anschließend die Startwerte mit den nun vergangen Zahlen an.\n",
    "        k, j = j, k\n",
    "        j = n\n",
    "\n",
    "fibonacci(11)"
   ]
  },
  {
   "cell_type": "code",
   "execution_count": 9,
   "metadata": {},
   "outputs": [
    {
     "name": "stdout",
     "output_type": "stream",
     "text": [
      "SIRLANCELOT\n"
     ]
    }
   ],
   "source": [
    "# Aufgabe 5\n",
    "\n",
    "name = \"CSAIPRALKAINACZEYLVOST\"\n",
    "\n",
    "# Gebe jedes 2. Element des strings aus. Fange beim Index 1 an.\n",
    "print(name[1::2])"
   ]
  },
  {
   "cell_type": "code",
   "execution_count": 10,
   "metadata": {},
   "outputs": [
    {
     "name": "stdout",
     "output_type": "stream",
     "text": [
      "Madison Ashley Alexis Alyssa Abigail Megan\n"
     ]
    }
   ],
   "source": [
    "# Aufgabe 6\n",
    "\n",
    "nameList = ['Emily', 'Hannah', 'Madison', 'Ashley', 'Sarah', 'Alexis', 'Samantha', 'Jessica', 'Elizabeth', 'Taylor', 'Lauren', 'Alyssa', 'Kayla', 'Abigail', 'Brianna', 'Olivia', 'Emma', 'Megan', 'Grace', 'Victoria']\n",
    "\n",
    "# Erstelle eine neue Liste, die alle Namen aus der alten Liste beeinhaltet, die mit A oder mit M anfangen.\n",
    "print(\n",
    "    *[name for name in nameList if name[0] in ['A', 'M']]\n",
    ")"
   ]
  },
  {
   "cell_type": "code",
   "execution_count": 11,
   "metadata": {},
   "outputs": [
    {
     "name": "stdout",
     "output_type": "stream",
     "text": [
      "1\n",
      "2\n",
      "Fizz\n",
      "4\n",
      "Buzz\n",
      "Fizz\n",
      "7\n",
      "8\n",
      "Fizz\n",
      "Buzz\n",
      "11\n",
      "Fizz\n",
      "13\n",
      "14\n",
      "FizzBuzz\n",
      "16\n",
      "17\n",
      "Fizz\n",
      "19\n",
      "Buzz\n",
      "Fizz\n",
      "22\n",
      "23\n",
      "Fizz\n",
      "Buzz\n",
      "26\n",
      "Fizz\n",
      "28\n",
      "29\n",
      "FizzBuzz\n",
      "31\n",
      "32\n",
      "Fizz\n",
      "34\n",
      "Buzz\n",
      "Fizz\n",
      "37\n",
      "38\n",
      "Fizz\n",
      "Buzz\n",
      "41\n",
      "Fizz\n",
      "43\n",
      "44\n",
      "FizzBuzz\n",
      "46\n",
      "47\n",
      "Fizz\n",
      "49\n",
      "Buzz\n",
      "Fizz\n",
      "52\n",
      "53\n",
      "Fizz\n",
      "Buzz\n",
      "56\n",
      "Fizz\n",
      "58\n",
      "59\n",
      "FizzBuzz\n",
      "61\n",
      "62\n",
      "Fizz\n",
      "64\n",
      "Buzz\n",
      "Fizz\n",
      "67\n",
      "68\n",
      "Fizz\n",
      "Buzz\n",
      "71\n",
      "Fizz\n",
      "73\n",
      "74\n",
      "FizzBuzz\n",
      "76\n",
      "77\n",
      "Fizz\n",
      "79\n",
      "Buzz\n",
      "Fizz\n",
      "82\n",
      "83\n",
      "Fizz\n",
      "Buzz\n",
      "86\n",
      "Fizz\n",
      "88\n",
      "89\n",
      "FizzBuzz\n",
      "91\n",
      "92\n",
      "Fizz\n",
      "94\n",
      "Buzz\n",
      "Fizz\n",
      "97\n",
      "98\n",
      "Fizz\n",
      "Buzz\n"
     ]
    }
   ],
   "source": [
    "# Aufgabe 7\n",
    "\n",
    "for i in range(1, 100+1):\n",
    "    # Überprüfe die Teilbarkeit über Modulo\n",
    "    if i % 3 == 0 and i % 5 == 0:\n",
    "        print(\"FizzBuzz\")\n",
    "\n",
    "    elif i % 3 == 0:\n",
    "        print(\"Fizz\")\n",
    "    \n",
    "    elif i % 5 == 0:\n",
    "        print(\"Buzz\")\n",
    "\n",
    "    else:\n",
    "        print(i)"
   ]
  },
  {
   "cell_type": "code",
   "execution_count": 22,
   "metadata": {},
   "outputs": [
    {
     "name": "stdout",
     "output_type": "stream",
     "text": [
      "13\n",
      "      *      \n",
      "\n",
      "     ***     \n",
      "\n",
      "    *****    \n",
      "\n",
      "   *******   \n",
      "\n",
      "  *********  \n",
      "\n",
      " *********** \n",
      "\n",
      "*************\n",
      "\n"
     ]
    }
   ],
   "source": [
    "def weihnachtsBaum(l = 6):\n",
    "    w = 1 + 2 * (l - 1) # Ermittle die Breite des Baums\n",
    "    for i in range(1, l + 1): # Schleife über die Länge des Baums\n",
    "        # Printe eine 'Zeile' des Baums | \\n für Leerzeile + center zum zentrieren. \n",
    "        print(\n",
    "            (\"*\" * (1 + (i - 1) * 2)).center(w) + \"\\n\"\n",
    "        )\n",
    "\n",
    "weihnachtsBaum(l=6)"
   ]
  }
 ],
 "metadata": {
  "kernelspec": {
   "display_name": "Python 3.8.10 64-bit",
   "language": "python",
   "name": "python3"
  },
  "language_info": {
   "codemirror_mode": {
    "name": "ipython",
    "version": 3
   },
   "file_extension": ".py",
   "mimetype": "text/x-python",
   "name": "python",
   "nbconvert_exporter": "python",
   "pygments_lexer": "ipython3",
   "version": "3.8.10"
  },
  "orig_nbformat": 4,
  "vscode": {
   "interpreter": {
    "hash": "916dbcbb3f70747c44a77c7bcd40155683ae19c65e1c03b4aa3499c5328201f1"
   }
  }
 },
 "nbformat": 4,
 "nbformat_minor": 2
}
